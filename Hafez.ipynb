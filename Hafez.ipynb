{
  "nbformat": 4,
  "nbformat_minor": 0,
  "metadata": {
    "colab": {
      "name": "Hafez.ipynb",
      "provenance": [],
      "collapsed_sections": [],
      "authorship_tag": "ABX9TyODqqgnofnNG5/AUXQZpuwh",
      "include_colab_link": true
    },
    "kernelspec": {
      "name": "python3",
      "display_name": "Python 3"
    },
    "accelerator": "GPU"
  },
  "cells": [
    {
      "cell_type": "markdown",
      "metadata": {
        "id": "view-in-github",
        "colab_type": "text"
      },
      "source": [
        "<a href=\"https://colab.research.google.com/github/afarsaee/Hafiz/blob/main/Hafez.ipynb\" target=\"_parent\"><img src=\"https://colab.research.google.com/assets/colab-badge.svg\" alt=\"Open In Colab\"/></a>"
      ]
    },
    {
      "cell_type": "code",
      "metadata": {
        "id": "7HTPBhg0TOaE"
      },
      "source": [
        "import tensorflow as tf\r\n",
        "from tensorflow.keras.preprocessing.sequence import pad_sequences\r\n",
        "from tensorflow.keras.layers import Embedding, LSTM, Dense, Dropout, Bidirectional, BatchNormalization\r\n",
        "from tensorflow.keras.preprocessing.text import Tokenizer\r\n",
        "from tensorflow.keras.models import Sequential\r\n",
        "from tensorflow.keras.optimizers import Adam\r\n",
        "from tensorflow.keras import regularizers\r\n",
        "import tensorflow.keras.utils as ku \r\n",
        "import numpy as np "
      ],
      "execution_count": null,
      "outputs": []
    },
    {
      "cell_type": "code",
      "metadata": {
        "id": "vxgWUtvqTTIW"
      },
      "source": [
        "read_Beyts = []\r\n",
        "with open('Beyts.txt', 'r',encoding=\"utf-8\") as filehandle:\r\n",
        "    for line in filehandle:\r\n",
        "        # remove linebreak which is the last character of the string\r\n",
        "        currentPlace = line[:-1]\r\n",
        "\r\n",
        "        # add item to the list\r\n",
        "        read_Beyts.append(currentPlace)"
      ],
      "execution_count": null,
      "outputs": []
    },
    {
      "cell_type": "code",
      "metadata": {
        "id": "BQhTlEdMTcL8"
      },
      "source": [
        "tokenizer = Tokenizer()\r\n",
        "tokenizer.fit_on_texts(read_Beyts)\r\n",
        "total_words = len(tokenizer.word_index) + 1\r\n",
        "# create input sequences using list of tokens\r\n",
        "input_sequences = []\r\n",
        "for line in read_Beyts:\r\n",
        "    token_list = tokenizer.texts_to_sequences([line])[0]\r\n",
        "    for i in range(1, len(token_list)):\r\n",
        "        n_gram_sequence = token_list[:i+1]\r\n",
        "        input_sequences.append(n_gram_sequence)\r\n",
        "\r\n",
        "\r\n",
        "# pad sequences \r\n",
        "max_sequence_len = max([len(x) for x in input_sequences])\r\n",
        "input_sequences = np.array(pad_sequences(input_sequences, maxlen=max_sequence_len, padding='pre'))\r\n",
        "\r\n",
        "# create predictors and label\r\n",
        "predictors, label = input_sequences[:,:-1],input_sequences[:,-1]\r\n",
        "\r\n",
        "label = ku.to_categorical(label, num_classes=total_words)"
      ],
      "execution_count": null,
      "outputs": []
    },
    {
      "cell_type": "code",
      "metadata": {
        "colab": {
          "base_uri": "https://localhost:8080/"
        },
        "id": "w7Dnz_eaTdlC",
        "outputId": "aaa98c59-3a58-43ea-be29-c6686a02a180"
      },
      "source": [
        "model = Sequential()\r\n",
        "model.add(Embedding(total_words, 64, input_length=max_sequence_len-1))\r\n",
        "model.add(Bidirectional(LSTM(150, return_sequences = True)))\r\n",
        "model.add(Dropout(0.5))\r\n",
        "model.add(LSTM(100))\r\n",
        "#model.add(Dense(total_words/2, activation='relu', kernel_regularizer=regularizers.l2(0.01)))\r\n",
        "model.add(Dense(total_words/2, activation='relu'))\r\n",
        "model.add(BatchNormalization())\r\n",
        "model.add(Dense(total_words, activation='softmax'))\r\n",
        "opt = Adam(learning_rate=0.003)\r\n",
        "model.compile(loss='categorical_crossentropy', optimizer=opt, metrics=['accuracy'])\r\n",
        "print(model.summary())\r\n",
        "#BUFFER_SIZE = 10000\r\n",
        "#BATCH_SIZE = 64\r\n",
        "\r\n",
        "#train_dataset = train_data.shuffle(BUFFER_SIZE)\r\n",
        "#train_dataset = train_dataset.padded_batch(BATCH_SIZE, tf.compat.v1.data.get_output_shapes(train_dataset))\r\n",
        "#test_dataset = test_data.padded_batch(BATCH_SIZE, tf.compat.v1.data.get_output_shapes(test_data))"
      ],
      "execution_count": null,
      "outputs": [
        {
          "output_type": "stream",
          "text": [
            "Model: \"sequential_16\"\n",
            "_________________________________________________________________\n",
            "Layer (type)                 Output Shape              Param #   \n",
            "=================================================================\n",
            "embedding_16 (Embedding)     (None, 12, 64)            505344    \n",
            "_________________________________________________________________\n",
            "bidirectional_16 (Bidirectio (None, 12, 300)           258000    \n",
            "_________________________________________________________________\n",
            "dropout_16 (Dropout)         (None, 12, 300)           0         \n",
            "_________________________________________________________________\n",
            "lstm_33 (LSTM)               (None, 100)               160400    \n",
            "_________________________________________________________________\n",
            "dense_34 (Dense)             (None, 3948)              398748    \n",
            "_________________________________________________________________\n",
            "batch_normalization_17 (Batc (None, 3948)              15792     \n",
            "_________________________________________________________________\n",
            "dense_35 (Dense)             (None, 7896)              31181304  \n",
            "=================================================================\n",
            "Total params: 32,519,588\n",
            "Trainable params: 32,511,692\n",
            "Non-trainable params: 7,896\n",
            "_________________________________________________________________\n",
            "None\n"
          ],
          "name": "stdout"
        }
      ]
    },
    {
      "cell_type": "code",
      "metadata": {
        "id": "gVFzvEs_ipuI"
      },
      "source": [
        "n_batch = int(len(predictors)/70)"
      ],
      "execution_count": null,
      "outputs": []
    },
    {
      "cell_type": "code",
      "metadata": {
        "id": "ZaXYEemCTkuD"
      },
      "source": [
        " history = model.fit(predictors, label, epochs=100,  batch_size=n_batch, verbose=1)"
      ],
      "execution_count": null,
      "outputs": []
    },
    {
      "cell_type": "code",
      "metadata": {
        "id": "s2kjD9drToN1",
        "colab": {
          "base_uri": "https://localhost:8080/",
          "height": 545
        },
        "outputId": "76f5fb09-e15a-40de-9ab8-cc9f7adacc70"
      },
      "source": [
        "import matplotlib.pyplot as plt\r\n",
        "acc = history.history['accuracy']\r\n",
        "loss = history.history['loss']\r\n",
        "\r\n",
        "epochs = range(len(acc))\r\n",
        "\r\n",
        "plt.plot(epochs, acc, 'b', label='Training accuracy')\r\n",
        "plt.title('Training accuracy')\r\n",
        "\r\n",
        "plt.figure()\r\n",
        "\r\n",
        "plt.plot(epochs, loss, 'b', label='Training Loss')\r\n",
        "plt.title('Training loss')\r\n",
        "plt.legend()\r\n",
        "\r\n",
        "plt.show()"
      ],
      "execution_count": null,
      "outputs": [
        {
          "output_type": "display_data",
          "data": {
            "image/png": "[encoded data removed]",
            "text/plain": [
              "<Figure size 432x288 with 1 Axes>"
            ]
          },
          "metadata": {
            "tags": [],
            "needs_background": "light"
          }
        },
        {
          "output_type": "display_data",
          "data": {
            "image/png": "[encoded data removed]",
            "text/plain": [
              "<Figure size 432x288 with 1 Axes>"
            ]
          },
          "metadata": {
            "tags": [],
            "needs_background": "light"
          }
        }
      ]
    },
    {
      "cell_type": "code",
      "metadata": {
        "id": "2Tvhd2D6Tpmj"
      },
      "source": [
        "seed_text = \"وطن\"\r\n",
        "print(seed_text)\r\n",
        "next_words = 100\r\n",
        "  \r\n",
        "for _ in range(next_words):\r\n",
        "    token_list = tokenizer.texts_to_sequences([seed_text])[0]\r\n",
        "    token_list = pad_sequences([token_list], maxlen=max_sequence_len-1, padding='pre')\r\n",
        "    #print(token_list)\r\n",
        "    predicted = model.predict_classes(token_list, verbose=0)\r\n",
        "    output_word = \"\"\r\n",
        "    for word, index in tokenizer.word_index.items():\r\n",
        "        if index == predicted:\r\n",
        "            output_word = word\r\n",
        "            break\r\n",
        "    seed_text += \" \" + output_word\r\n",
        "print(seed_text)"
      ],
      "execution_count": null,
      "outputs": []
    },
    {
      "cell_type": "code",
      "metadata": {
        "id": "t0tzAG0kmUMz"
      },
      "source": [
        "from keras.models import model_from_json\r\n",
        "# serialize model to JSON\r\n",
        "model_json = model.to_json()\r\n",
        "with open(\"model.json\", \"w\") as json_file:\r\n",
        "    json_file.write(model_json)\r\n",
        "# serialize weights to HDF5\r\n",
        "model.save_weights(\"model.h5\")\r\n",
        "print(\"Saved model to disk\")"
      ],
      "execution_count": null,
      "outputs": []
    },
    {
      "cell_type": "code",
      "metadata": {
        "id": "nqZo4WXgSvGZ"
      },
      "source": [
        "# later...\r\n",
        " # if you want to load the model:\r\n",
        "\r\n",
        "# load json and create model\r\n",
        "  #json_file = open('model.json', 'r')\r\n",
        "  #loaded_model_json = json_file.read()\r\n",
        "  #json_file.close()\r\n",
        "  #loaded_model = model_from_json(loaded_model_json)\r\n",
        "# load weights into new model\r\n",
        "  #loaded_model.load_weights(\"model.h5\")\r\n",
        "  #print(\"Loaded model from disk\")"
      ],
      "execution_count": null,
      "outputs": []
    }
  ]
}